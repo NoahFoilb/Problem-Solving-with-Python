{
 "cells": [
  {
   "cell_type": "markdown",
   "metadata": {},
   "source": [
    "## CSC1611 Problem Solving Using Python\n",
    "Homework 2 due on 10/13 at midnight\n",
    "\n",
    "<i>Noah Foilb</i>"
   ]
  },
  {
   "cell_type": "markdown",
   "metadata": {},
   "source": [
    "Rules:\n",
    "1. <b>Any solution having a Python error will get zero points.</b> If you cannot solve a problem completely, it may be better to submit a clean partial solution having no errors rather than a solution having errors.\n",
    "2. Ensure that your solution is executed, the output is shown, and the cell execution sequence is consecutive.\n",
    "3. This assignment requires the turtle and math modules. No other external modules may be used. No Python features that have not been discussed in class may be used in a solution. If not sure, ask me for clarification.\n",
    "4. Solve each problem on a 640-by-480 Turtle screen. The screen title must show the problem number and your full name. Set the background color of the screen to a non-default color.\n",
    "5. Do not use input() unless it is required to make the solution interactive.\n",
    "6. Submit the final version of this Notebook file to Blackboard. Ensure that the file extension is .ipynb and it can be loaded into Jupyter Notebook. .json and .html files are not accepted."
   ]
  },
  {
   "cell_type": "markdown",
   "metadata": {},
   "source": [
    "### Problem 1"
   ]
  },
  {
   "cell_type": "markdown",
   "metadata": {},
   "source": [
    "(3 points) Write a Python program to draw a sequence of 10 non-overlapping co-centric squares. Assume the innermost square is 20 units per side, and each successive square is 20 units bigger, per side, than the one inside it. An example is shown in Exercise 2 of textbook Chapter 4. Textbook Chapter 3 provides a good introduction to the Turtle graphics."
   ]
  },
  {
   "cell_type": "code",
   "execution_count": null,
   "metadata": {},
   "outputs": [],
   "source": [
    "# Your solution goes here.\n",
    "# Freely add additional variables, expressions, statements, and functions.\n",
    "# All the defined identifiers must be used in solving the given problem.\n",
    "import turtle\n",
    "\n",
    "# Set screen preferences\n",
    "screen = turtle.Screen()\n",
    "screen.setup(width=640,height=480)\n",
    "screen.title(\"Problem 1: Draw a square\")\n",
    "screen.bgcolor(\"blue\")\n",
    "\n",
    "# Call turtle\n",
    "my_turtle = turtle.Turtle()\n",
    "\n",
    "#def Draw_Square(length):    # Assign this function as Draw_Square\n",
    "for length in range(20,220,20):\n",
    "    my_turtle.penup()\n",
    "    my_turtle.goto((-.5)*length,(-.5)*length)\n",
    "    my_turtle.pendown()\n",
    "    for i in range(4):       # Four sides in a square\n",
    "        my_turtle.forward(length)\n",
    "        my_turtle.left(90)\n",
    "    \n",
    "screen.mainloop()"
   ]
  },
  {
   "cell_type": "markdown",
   "metadata": {},
   "source": [
    "### Problem 2"
   ]
  },
  {
   "cell_type": "markdown",
   "metadata": {},
   "source": [
    "(2 points) Write a void Python function, called draw_circle, which creates a circle on a Turtle screen with the following specficiation:\n",
    "\n",
    "1. The function takes x, y, and radius as formal parameters where x and y are the x- and y-coordinates of the center of the circle and radius is the radius of the circle.\n",
    "2. Set the thickness and color of the circle to a non-default value. Also, fill in the circle with a non-default color.\n",
    "\n",
    "Add additional code segment, outside the function, to call the function to show a circle with the radius of 240 at the center of the screen."
   ]
  },
  {
   "cell_type": "code",
   "execution_count": 2,
   "metadata": {
    "scrolled": true
   },
   "outputs": [],
   "source": [
    "# Your solution goes here.\n",
    "# Freely add additional variables, expressions, statements, and functions.\n",
    "# All the defined identifiers must be used in solving the given problem.\n",
    "import turtle\n",
    "\n",
    "def draw_circle(x,y,radius):\n",
    "    # This is the teqnuiuqe used to make circles using turtles\n",
    "    my_turtle.penup()\n",
    "    my_turtle.goto(x,y)\n",
    "    my_turtle.pendown()\n",
    "    my_turtle.begin_fill()\n",
    "    my_turtle.circle(radius)\n",
    "    my_turtle.end_fill()\n",
    "\n",
    "    # Screen preference\n",
    "screen = turtle.Screen()\n",
    "screen.setup(width=640,height=480)\n",
    "screen.title(\"Problem 2: Draw a circle\")\n",
    "screen.bgcolor(\"blue\")\n",
    "\n",
    "# call turtle\n",
    "my_turtle = turtle.Turtle()\n",
    "my_turtle.pensize(5)\n",
    "my_turtle.color(\"red\", \"brown\")\n",
    "\n",
    "#Draw circle\n",
    "draw_circle(0,-240,240)"
   ]
  },
  {
   "cell_type": "markdown",
   "metadata": {},
   "source": [
    "### Problem 3"
   ]
  },
  {
   "cell_type": "markdown",
   "metadata": {},
   "source": [
    "(3 points) Write a void Python function, called draw_star, to draw a perfect five-point star in a circle of radius 240. You can reuse the draw_circle function written above and the degrees_to_radians function from HW1. \n",
    "\n",
    "Hint: Refer to the \"Geometry of Five-Points Stars (Turtle)\" supplemental slide."
   ]
  },
  {
   "cell_type": "code",
   "execution_count": 2,
   "metadata": {},
   "outputs": [],
   "source": [
    "# Your solution goes here.\n",
    "# Freely add additional variables, expressions, statements, and functions.\n",
    "# All the defined identifiers must be used in solving the given problem.\n",
    "import math\n",
    "import turtle\n",
    "\n",
    "def degree_to_radian(degree):\n",
    "    radian = round(degree*math.pi/180,10)\n",
    "    return radian\n",
    "\n",
    "def draw_circle(x,y,radius):\n",
    "    my_turtle.penup()\n",
    "    my_turtle.goto(x,y)\n",
    "    my_turtle.pendown()\n",
    "    my_turtle.circle(radius)\n",
    "    \n",
    "def draw_star(radius):\n",
    "    length = 228               #Im not good at geometry, I tried for hours to find the formula for the length and tried to use coordinate distance formula for two different point but nothing worked so I hard coded it\n",
    "                               #This is the formula I used but it didnt work.\n",
    "                               #Length = math.sqrt((radius*math.cos(math.radians(234)))**2 + (radius*math.sin(math.radians(234)) - 240)**2)\n",
    "    my_turtle.penup()\n",
    "    my_turtle.goto(0,radius)\n",
    "    my_turtle.pendown()\n",
    "    my_turtle.right(108)\n",
    "    \n",
    "    for i in range(1,6): \n",
    "        my_turtle.forward(length*2)\n",
    "        my_turtle.left(144)\n",
    "    \n",
    "    \n",
    "   \n",
    "\n",
    "\n",
    "screen = turtle.Screen()\n",
    "screen.setup(width=640,height=480)\n",
    "screen.title(\"Problem 3: Draw a perfect five-point star\")\n",
    "screen.bgcolor(\"blue\")\n",
    "\n",
    "my_turtle = turtle.Turtle()\n",
    "\n",
    "draw_circle(0,-240,240)\n",
    "                       \n",
    "my_turtle = turtle.Turtle()                    \n",
    "draw_star(240)"
   ]
  }
 ],
 "metadata": {
  "kernelspec": {
   "display_name": "Python 3",
   "language": "python",
   "name": "python3"
  },
  "language_info": {
   "codemirror_mode": {
    "name": "ipython",
    "version": 3
   },
   "file_extension": ".py",
   "mimetype": "text/x-python",
   "name": "python",
   "nbconvert_exporter": "python",
   "pygments_lexer": "ipython3",
   "version": "3.8.3"
  }
 },
 "nbformat": 4,
 "nbformat_minor": 4
}
