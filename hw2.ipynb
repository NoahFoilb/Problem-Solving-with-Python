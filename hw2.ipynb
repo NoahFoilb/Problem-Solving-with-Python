{
 "cells": [
  {
   "cell_type": "markdown",
   "metadata": {},
   "source": [
    "## CSC1611 Problem Solving Using Python\n",
    "\n",
    "Homework 2 due on 9/29 at midnight\n",
    "\n",
    "<i>Noah Amabile Foilb</i>"
   ]
  },
  {
   "cell_type": "markdown",
   "metadata": {},
   "source": [
    "Rules:\n",
    "1. <b>Any solution having a Python error will get zero points.</b> If you cannot solve a problem completely, it may be better to submit a clean partial solution having no errors rather than a solution having errors.\n",
    "2. Ensure that your solution is executed, the output is shown, and the cell execution sequence is consecutive.\n",
    "3. No external module can be used in this assignment. No Python features that have not been discussed in class may be used in a solution. For example, you may not use the if and while statements.  If not sure, ask me for clarification.\n",
    "4. Do not use input() unless it is required to make the solution interactive.\n",
    "5. Submit the final version of this Notebook file to Blackboard. Ensure that the file extension is .ipynb and it can be loaded into Jupyter Notebook. .json and .html files are not accepted."
   ]
  },
  {
   "cell_type": "markdown",
   "metadata": {},
   "source": [
    "### Problem 1"
   ]
  },
  {
   "cell_type": "markdown",
   "metadata": {},
   "source": [
    "(2 points) You look at the clock and it is exactly 2pm. You set an alarm to go off in 51 hours. Write a Python program which shows the exact time the alarm will go off in the 24-hour clock (refer to Wikipedia for 24-hour clock, if needed) and the number of elapsed day(s) using the following format:<br/>\n",
    "\n",
    "<code>\n",
    "    <i>The alarm will go off at ???? hour in ???? day(s).</i>\n",
    "</code>\n",
    "\n",
    "You may not use any constants other than 2, 12, 24, and 51 in your solution. All other values must be calculated from Python operations."
   ]
  },
  {
   "cell_type": "code",
   "execution_count": 1,
   "metadata": {
    "scrolled": true
   },
   "outputs": [
    {
     "name": "stdout",
     "output_type": "stream",
     "text": [
      "The alarm will go off at 17 hour in 2 days.\n"
     ]
    }
   ],
   "source": [
    "# Your solution goes here and must use the given variables.\n",
    "# Freely add additional variables, expressions, and statements.\n",
    "# All the defined variables must be used in solving the given problem.\n",
    "now = 2\n",
    "alarm_go_off_in = 51\n",
    "\n",
    "# Find the amount of days\n",
    "Days = round(alarm_go_off_in/24)\n",
    "\n",
    "# Hour difference from 2pm\n",
    "Diff = alarm_go_off_in%24\n",
    "\n",
    "# Calculate the Hour\n",
    "Hour = Diff + now + 12\n",
    "\n",
    "# Display result\n",
    "print(\"The alarm will go off at\", Hour, \"hour in\", Days, \"days.\")"
   ]
  },
  {
   "cell_type": "markdown",
   "metadata": {},
   "source": [
    "### Problem 2"
   ]
  },
  {
   "cell_type": "markdown",
   "metadata": {},
   "source": [
    "(3 points) Your client gives you $N$ pennies and asks as many dollar bills, uarters, dimes, nickels, and pennies that he may carry as few coins as possible.\n",
    "\n",
    "Write a Python function, called change, which takes the number of pennies as the formal parameter, and shows the optimal numbers of dollars, quarters, dimes, nickels, and pennies using the following format:<br/>\n",
    "\n",
    "<code>\n",
    "    <i>??? pennies are equivalent to:</i>\n",
    "    <i>??? dollars,</i>\n",
    "    <i>??? quarters,</i>\n",
    "    <i>??? dimes,</i>\n",
    "    <i>??? nickels, and</i>\n",
    "    <i>??? pennies.</i>\n",
    "</code>\n",
    "\n",
    "Write additional Python instructions, outside the function, to call the change function and show the results for 392 pennies and 3,163 pennies."
   ]
  },
  {
   "cell_type": "code",
   "execution_count": 2,
   "metadata": {},
   "outputs": [
    {
     "name": "stdout",
     "output_type": "stream",
     "text": [
      "392 pennies are equivalent to:\n",
      " 3 dollars,\n",
      " 3 quaters,\n",
      " 1 dimes,\n",
      " 1 nickles and\n",
      " 2 pennies.\n",
      "\n",
      "3163 pennies are equivalent to:\n",
      " 31 dollars,\n",
      " 2 quaters,\n",
      " 1 dimes,\n",
      " 0 nickles and\n",
      " 3 pennies.\n",
      "\n"
     ]
    }
   ],
   "source": [
    "# Your solution goes here. Use the given function header.\n",
    "# Freely add additional variables, expressions, and statements.\n",
    "# All the defined variables must be used in solving the given problem.\n",
    "\n",
    "def change(pennies):\n",
    "    \n",
    "    # How many dollars?\n",
    "    Dollars = pennies//100\n",
    "    \n",
    "    # Remaining Coins\n",
    "    Remain = pennies%100\n",
    "    \n",
    "    # How many Quaters?\n",
    "    Quaters = Remain//25\n",
    "    \n",
    "    # Remaining Coins\n",
    "    Remain = Remain%25\n",
    "\n",
    "    # How many Dimes?\n",
    "    Dimes = Remain//10\n",
    "\n",
    "    # Remaining Coins\n",
    "    Remain = Remain%10\n",
    "    \n",
    "    # How many Nickles\n",
    "    Nickles = Remain//5\n",
    "    \n",
    "    # Remaining Pennies\n",
    "    Pennies = Remain%5\n",
    "    \n",
    "    # Display Results\n",
    "    print(\n",
    "        pennies, \"pennies are equivalent to:\\n\",\n",
    "        Dollars, \"dollars,\\n\",\n",
    "        Quaters, \"quaters,\\n\",\n",
    "        Dimes, \"dimes,\\n\",\n",
    "        Nickles, \"nickles and\\n\", \n",
    "        Pennies, \"pennies.\\n\")\n",
    "\n",
    "\n",
    "change(392)\n",
    "change(3163)"
   ]
  },
  {
   "cell_type": "markdown",
   "metadata": {},
   "source": [
    "### Problem 3"
   ]
  },
  {
   "cell_type": "markdown",
   "metadata": {},
   "source": [
    "(3 points) The formula for computing the final amount if one is earning compound interest periodically is given on Wikipedia as\n",
    "\n",
    "$P' = P(1 + \\frac{r}{n})^{nt}$\n",
    "\n",
    "where\n",
    "\n",
    "    P is the original principal sum\n",
    "    P' is the new principal sum\n",
    "    r is the nominal annual interest rate\n",
    "    n is the compounding frequency\n",
    "    t is the overall length of time the interest is applied (expressed using the same time units as r, usually years).\n",
    "\n",
    "The Wikipedia page shows examples of calculation using the formula.\n",
    "\n",
    "Write a Python function, called periodic_compounding, which takes the initial principal sum, annual interest rate, compounding frequency, and overall length of time as formal parameters, and return the new principal sum. The function does not print anything.\n",
    "\n",
    "Write another code segment, outside the function, to call the function using the values used in the two Wikipedia examples and show the results using the following format:\n",
    "\n",
    "<code>\n",
    "    <i>New principal sum is ??? dollars.</i>\n",
    "</code>"
   ]
  },
  {
   "cell_type": "code",
   "execution_count": 3,
   "metadata": {},
   "outputs": [
    {
     "name": "stdout",
     "output_type": "stream",
     "text": [
      "New principle sum is 1938.84 dollars.\n",
      "\n",
      "New principle sum is 1921.24 dollars.\n"
     ]
    }
   ],
   "source": [
    "# Your solution goes here. Use the given function header.\n",
    "# Freely add additional variables, expressions, and statements.\n",
    "# All the defined variables must be used in solving the given problem.\n",
    "\n",
    "def periodic_compounding(principal, annual_interest_rate, frequency, length):\n",
    "    New_P = principal*(1+annual_interest_rate/frequency)**(frequency*length)\n",
    "    \n",
    "    # Simply for Fomatting\n",
    "    New_P = round(New_P,2)\n",
    "    \n",
    "    # Return Value\n",
    "    return New_P\n",
    "\n",
    "# Example 1 from Wiki\n",
    "# Call the function\n",
    "New_P = periodic_compounding(1500,.043,4,6)\n",
    "\n",
    "# Display results\n",
    "print(\"New principle sum is\", New_P, \"dollars.\\n\")\n",
    "\n",
    "# Example 2 from Wiki\n",
    "# Call the function\n",
    "New_P = periodic_compounding(1500,.043,1/2,6)\n",
    "\n",
    "# Display results\n",
    "print(\"New principle sum is\", New_P, \"dollars.\")\n"
   ]
  }
 ],
 "metadata": {
  "kernelspec": {
   "display_name": "Python 3",
   "language": "python",
   "name": "python3"
  },
  "language_info": {
   "codemirror_mode": {
    "name": "ipython",
    "version": 3
   },
   "file_extension": ".py",
   "mimetype": "text/x-python",
   "name": "python",
   "nbconvert_exporter": "python",
   "pygments_lexer": "ipython3",
   "version": "3.8.3"
  }
 },
 "nbformat": 4,
 "nbformat_minor": 4
}
