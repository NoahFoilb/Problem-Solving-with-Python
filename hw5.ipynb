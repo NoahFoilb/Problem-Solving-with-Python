{
 "cells": [
  {
   "cell_type": "markdown",
   "metadata": {},
   "source": [
    "## CSC1611 Problem Solving Using Python\n",
    "Homework 5 due on 11/24 at midnight\n",
    "\n",
    "<i>Noah Amabile Foilb</i>"
   ]
  },
  {
   "cell_type": "markdown",
   "metadata": {},
   "source": [
    "Rules:\n",
    "1. <b>Any solution having a Python error will get zero points.</b> If you cannot solve a problem completely, it may be better to submit a clean partial solution having no errors rather than a solution having errors.\n",
    "2. Ensure that your solution is executed, the output is shown, and the cell execution sequence is consecutive.\n",
    "3. Do not use the input function or any other Python features that have not been fully covered according to the course schedule. Furthermore, do not import any modules for this assignment. If not sure, ask me for clarification.\n",
    "4. Submit the final version of this Notebook file to Blackboard. Ensure that the file extension is .ipynb and it can be loaded into Jupyter Notebook. .json and .html files are not accepted."
   ]
  },
  {
   "cell_type": "markdown",
   "metadata": {},
   "source": [
    "This assignment provides students an opportunity to integrate the major concepts that they learned through the semester such as operations on variables, strings, functions, tuples, lists, dictionaries and files, conditional execution, looping, sorting, accumulating partial solution, and string formatting."
   ]
  },
  {
   "cell_type": "markdown",
   "metadata": {},
   "source": [
    "### Problem 1"
   ]
  },
  {
   "cell_type": "markdown",
   "metadata": {},
   "source": [
    "(4 points) Write a function, called <code>word_frequency</code>, which takes a file name as a formal parameter and returns a dictionary containing the occurrence frequency of each distinct word in the file.\n",
    "\n",
    "Place the <code>genesis.txt</code> file in your current directory. Show the workings of your solution with the following code:\n",
    "<pre>\n",
    "book = 'genesis.txt'\n",
    "genesis = word_frequency(book)\n",
    "print(f'There are {len(genesis):,} words found in the book of {book}.')\n",
    "print(f'Some of them are:')\n",
    "for w in ['blessing','happy','love','joy','mother','good','evil','forgive']:\n",
    "    print(f'\\t\"{w}\" occurs {genesis.get(w,0):,} times.')\n",
    "</pre>\n",
    "\n",
    "Consider the following algorithm for this problem:\n",
    "\n",
    "1. Prepare an empty dictionary to keep track of the count of each word.\n",
    "2. Open the file.\n",
    "3. For each line in the file do:\n",
    "   1. Break the line into words using spaces in between.\n",
    "   2. Clean each word: Strip leading and trailing whitespaces, digits and punctuation characters. Convert uppercase letters to lowercase.\n",
    "   3. Update word occurrence count in the word count dictionary. Each item in the dictionary has a word as key and the count of the word as value.\n",
    "4. Close the file.\n",
    "5. Return the dictionary.\n",
    "\n",
    "These are the characters to be stripped off from words:\n",
    "<pre>\n",
    "!\"#$%&'()*+,-./:;<=>?@[\\\\]^_`{|}~0123456789\\t\\n\\r\\x0b\\x0c\n",
    "</pre>"
   ]
  },
  {
   "cell_type": "code",
   "execution_count": 25,
   "metadata": {},
   "outputs": [
    {
     "name": "stdout",
     "output_type": "stream",
     "text": [
      "There are 2,494 words found in the book of genesis.txt.\n",
      "Some of them are:\n",
      "\t\"blessing\" occurs 13 times.\n",
      "\t\"happy\" occurs 1 times.\n",
      "\t\"love\" occurs 3 times.\n",
      "\t\"joy\" occurs 0 times.\n",
      "\t\"mother\" occurs 19 times.\n",
      "\t\"good\" occurs 45 times.\n",
      "\t\"evil\" occurs 18 times.\n",
      "\t\"forgive\" occurs 2 times.\n"
     ]
    }
   ],
   "source": [
    "\n",
    "def word_frequency(book):\n",
    "    frequency = dict()\n",
    "    \n",
    "    f = open(book, 'r')\n",
    "    text = f.read()\n",
    "    \n",
    "    symbols_to_remove = \"!#$%&'()*+,-./:;<=>?@[\\\\]^_`{|}~0123456789\\t\\n\\r\\x0b\\x0c,!\"\n",
    "    cleaned = ''\n",
    "    for i in range(len(text)):\n",
    "        if text[i] not in symbols_to_remove:\n",
    "            cleaned = cleaned + text[i]\n",
    "    text = cleaned\n",
    "    \n",
    "    for line in text:\n",
    "        text = text.strip()\n",
    "        text = text.lower()\n",
    "        words = text.split()\n",
    "        \n",
    "        for word in words:\n",
    "            if word in frequency:\n",
    "                frequency[word] = frequency[word] + 1\n",
    "            else:\n",
    "                frequency[word] = 1\n",
    "                \n",
    "        f.close\n",
    "        return frequency\n",
    "    \n",
    "book = 'genesis.txt'\n",
    "genesis = word_frequency(book)\n",
    "print(f'There are {len(genesis):,} words found in the book of {book}.')\n",
    "print(f'Some of them are:')\n",
    "for w in ['blessing','happy','love','joy','mother','good','evil','forgive']:\n",
    "    print(f'\\t\"{w}\" occurs {genesis.get(w,0):,} times.')"
   ]
  },
  {
   "cell_type": "markdown",
   "metadata": {},
   "source": [
    "### Problem 2"
   ]
  },
  {
   "cell_type": "markdown",
   "metadata": {},
   "source": [
    "(2 points) Write a function, called <code>total_word_count</code>, which takes a word count dictionary and returns the total occurrence count of all the words found in the dictionary. A correct solution must use a loop and accumulator to calculator the total count.\n",
    "\n",
    "Show the workings of your solution using the following output format:\n",
    "<pre>\n",
    "The book of Genesis contains 38,264 words in total.\n",
    "</pre>"
   ]
  },
  {
   "cell_type": "code",
   "execution_count": 44,
   "metadata": {
    "scrolled": true
   },
   "outputs": [
    {
     "name": "stdout",
     "output_type": "stream",
     "text": [
      "38264\n",
      "<class 'dict'>\n",
      "2494\n"
     ]
    },
    {
     "ename": "TypeError",
     "evalue": "int() argument must be a string, a bytes-like object or a number, not 'dict_values'",
     "output_type": "error",
     "traceback": [
      "\u001b[1;31m---------------------------------------------------------------------------\u001b[0m",
      "\u001b[1;31mTypeError\u001b[0m                                 Traceback (most recent call last)",
      "\u001b[1;32m<ipython-input-44-9ca1216a470a>\u001b[0m in \u001b[0;36m<module>\u001b[1;34m\u001b[0m\n\u001b[0;32m     14\u001b[0m \u001b[0mprint\u001b[0m\u001b[1;33m(\u001b[0m\u001b[0mtype\u001b[0m\u001b[1;33m(\u001b[0m\u001b[0mgenesis\u001b[0m\u001b[1;33m)\u001b[0m\u001b[1;33m)\u001b[0m\u001b[1;33m\u001b[0m\u001b[1;33m\u001b[0m\u001b[0m\n\u001b[0;32m     15\u001b[0m \u001b[0mprint\u001b[0m\u001b[1;33m(\u001b[0m\u001b[0mlen\u001b[0m\u001b[1;33m(\u001b[0m\u001b[0mgenesis\u001b[0m\u001b[1;33m)\u001b[0m\u001b[1;33m)\u001b[0m\u001b[1;33m\u001b[0m\u001b[1;33m\u001b[0m\u001b[0m\n\u001b[1;32m---> 16\u001b[1;33m \u001b[0mtotal_word_count\u001b[0m\u001b[1;33m(\u001b[0m\u001b[0mgenesis\u001b[0m\u001b[1;33m)\u001b[0m\u001b[1;33m\u001b[0m\u001b[1;33m\u001b[0m\u001b[0m\n\u001b[0m",
      "\u001b[1;32m<ipython-input-44-9ca1216a470a>\u001b[0m in \u001b[0;36mtotal_word_count\u001b[1;34m(book)\u001b[0m\n\u001b[0;32m      5\u001b[0m     \u001b[0mTotal\u001b[0m \u001b[1;33m=\u001b[0m \u001b[1;36m0\u001b[0m\u001b[1;33m\u001b[0m\u001b[1;33m\u001b[0m\u001b[0m\n\u001b[0;32m      6\u001b[0m     \u001b[1;32mfor\u001b[0m \u001b[0mword\u001b[0m \u001b[1;32min\u001b[0m \u001b[0mbook\u001b[0m\u001b[1;33m:\u001b[0m\u001b[1;33m\u001b[0m\u001b[1;33m\u001b[0m\u001b[0m\n\u001b[1;32m----> 7\u001b[1;33m         \u001b[0mTotal\u001b[0m \u001b[1;33m=\u001b[0m \u001b[0mTotal\u001b[0m \u001b[1;33m+\u001b[0m \u001b[0mint\u001b[0m\u001b[1;33m(\u001b[0m\u001b[0mbook\u001b[0m\u001b[1;33m.\u001b[0m\u001b[0mvalues\u001b[0m\u001b[1;33m(\u001b[0m\u001b[1;33m)\u001b[0m\u001b[1;33m)\u001b[0m\u001b[1;33m\u001b[0m\u001b[1;33m\u001b[0m\u001b[0m\n\u001b[0m\u001b[0;32m      8\u001b[0m \u001b[1;33m\u001b[0m\u001b[0m\n\u001b[0;32m      9\u001b[0m     \u001b[0mprint\u001b[0m\u001b[1;33m(\u001b[0m\u001b[0mTotal\u001b[0m\u001b[1;33m)\u001b[0m\u001b[1;33m\u001b[0m\u001b[1;33m\u001b[0m\u001b[0m\n",
      "\u001b[1;31mTypeError\u001b[0m: int() argument must be a string, a bytes-like object or a number, not 'dict_values'"
     ]
    }
   ],
   "source": [
    "# Your solution goes here. Do not add additional cells.\n",
    "# All the defined identifiers must be used in solving the given problem.\n",
    "# In other words, do not leave any unused variables.\n",
    "def total_word_count(book):\n",
    "\n",
    "    \n",
    "    return\n",
    "\n",
    "\n"
   ]
  },
  {
   "cell_type": "markdown",
   "metadata": {},
   "source": [
    "### Problem 3"
   ]
  },
  {
   "cell_type": "markdown",
   "metadata": {},
   "source": [
    "(2 points) Write a function, called <code>top_n_frequent_words</code>, which takes a word frequency dictionary and an integer _N_ and returns top _N_ frequent words from the dictionary with associated word count as a list. The items of the returning list must be sorted in the descending order with respect to frequency, i.e., from the most frequent to the least frequent words. One way to fulfill the requirements is to convert the dictionary as a list of (frequency, word) tuples and sort the list by frequency.\n",
    "\n",
    "Call the function using the word frequency dictionary generated from Problem 1 and 20 as _N_. Show the return value from the function using the tabular format suggested in the following sample output:\n",
    "<pre>\n",
    "  1  and        3,678\n",
    "  2  the        2,458\n",
    "  3  of         1,365\n",
    "  4  his          653\n",
    "  5  he           652\n",
    "  6  to           612\n",
    "  7  in           600\n",
    "  8  unto         598\n",
    "  9  that         520\n",
    " 10  i            484\n",
    " 11  said         478\n",
    " 12  him          402\n",
    " 13  my           343\n",
    " 14  a            341\n",
    " 15  for          326\n",
    " 16  was          317\n",
    " 17  it           306\n",
    " 18  with         293\n",
    " 19  me           292\n",
    " 20  thou         284\n",
    "</pre>\n",
    "Notice that the top _N_ words are sorted by word frequency in the descending order, and numbers are right-justified with thousands separator commas."
   ]
  },
  {
   "cell_type": "code",
   "execution_count": null,
   "metadata": {
    "scrolled": false
   },
   "outputs": [],
   "source": [
    "# Your solution goes here. Do not add additional cells.\n",
    "# All the defined identifiers must be used in solving the given problem.\n",
    "# In other words, do not leave any unused variables.\n",
    "\n",
    "\n"
   ]
  }
 ],
 "metadata": {
  "kernelspec": {
   "display_name": "Python 3",
   "language": "python",
   "name": "python3"
  },
  "language_info": {
   "codemirror_mode": {
    "name": "ipython",
    "version": 3
   },
   "file_extension": ".py",
   "mimetype": "text/x-python",
   "name": "python",
   "nbconvert_exporter": "python",
   "pygments_lexer": "ipython3",
   "version": "3.8.3"
  }
 },
 "nbformat": 4,
 "nbformat_minor": 4
}
